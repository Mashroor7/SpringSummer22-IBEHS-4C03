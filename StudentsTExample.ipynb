{
 "cells": [
  {
   "cell_type": "code",
   "execution_count": 2,
   "id": "b983a835-38ef-44ea-998c-58cb98aa7a70",
   "metadata": {},
   "outputs": [
    {
     "name": "stdin",
     "output_type": "stream",
     "text": [
      "Once deleted, variables cannot be recovered. Proceed (y/[n])?  y\n"
     ]
    }
   ],
   "source": [
    "%reset\n",
    "import numpy as np\n",
    "import pandas as pd\n",
    "import matplotlib.pyplot as plt\n",
    "import seaborn as sns\n",
    "import scipy\n",
    "from scipy import stats\n",
    "from scipy.stats import norm\n",
    "import statsmodels.api as sm"
   ]
  },
  {
   "cell_type": "markdown",
   "id": "cb1c536f-21ec-4a41-b2ec-b3df31396d5b",
   "metadata": {},
   "source": [
    "Sample t-test for testing for the differences in means: Independent t-test\n",
    "Load and explore the data.\n",
    "\n",
    "Average body fat perecntage vary by age and fitness level.  A sample of people who work out at a gym three times a week for 1 year were measured for body fat. \n",
    "\n",
    "If given the sample data below, the summary data, and informaation on the distributions of the samples, use the appropriate statistical est to test if body fat percentage is the same between men and women.  "
   ]
  },
  {
   "cell_type": "code",
   "execution_count": 3,
   "id": "49c689c9-d855-4da7-afe4-55b350c519bb",
   "metadata": {},
   "outputs": [],
   "source": [
    "Men=pd.Series([13.3,6,20,8,14,19,18,25,16,24,15,1,15])\n",
    "Women=pd.Series([22,16,21.7,21,30,26,12,23.2,28,23])"
   ]
  },
  {
   "cell_type": "code",
   "execution_count": 4,
   "id": "8e2691cd-e027-40c8-bf73-2774890e1f12",
   "metadata": {},
   "outputs": [
    {
     "data": {
      "text/plain": [
       "count    13.000000\n",
       "mean     14.946154\n",
       "std       6.842589\n",
       "min       1.000000\n",
       "25%      13.300000\n",
       "50%      15.000000\n",
       "75%      19.000000\n",
       "max      25.000000\n",
       "dtype: float64"
      ]
     },
     "execution_count": 4,
     "metadata": {},
     "output_type": "execute_result"
    }
   ],
   "source": [
    "Men.describe()"
   ]
  },
  {
   "cell_type": "code",
   "execution_count": 5,
   "id": "31e347ca-44bd-4070-8884-87574b5d600b",
   "metadata": {},
   "outputs": [
    {
     "data": {
      "text/plain": [
       "count    10.00000\n",
       "mean     22.29000\n",
       "std       5.31966\n",
       "min      12.00000\n",
       "25%      21.17500\n",
       "50%      22.50000\n",
       "75%      25.30000\n",
       "max      30.00000\n",
       "dtype: float64"
      ]
     },
     "execution_count": 5,
     "metadata": {},
     "output_type": "execute_result"
    }
   ],
   "source": [
    "Women.describe()"
   ]
  },
  {
   "cell_type": "code",
   "execution_count": 6,
   "id": "d26b3002-9af7-49b8-93f9-eb03ee7ee590",
   "metadata": {},
   "outputs": [
    {
     "data": {
      "text/plain": [
       "ShapiroResult(statistic=0.9584527015686035, pvalue=0.7296339869499207)"
      ]
     },
     "execution_count": 6,
     "metadata": {},
     "output_type": "execute_result"
    }
   ],
   "source": [
    "stats.shapiro(Men)"
   ]
  },
  {
   "cell_type": "code",
   "execution_count": 7,
   "id": "eb9b28ec-8e39-4564-80c0-5ffbd75d284a",
   "metadata": {},
   "outputs": [
    {
     "data": {
      "text/plain": [
       "ShapiroResult(statistic=0.9519110918045044, pvalue=0.6911411881446838)"
      ]
     },
     "execution_count": 7,
     "metadata": {},
     "output_type": "execute_result"
    }
   ],
   "source": [
    "stats.shapiro(Women)"
   ]
  },
  {
   "cell_type": "code",
   "execution_count": 8,
   "id": "588fbb3f-7251-48f7-b78a-33854fe5d2aa",
   "metadata": {},
   "outputs": [
    {
     "data": {
      "image/png": "[encoded data removed]",
      "text/plain": [
       "<Figure size 720x288 with 2 Axes>"
      ]
     },
     "metadata": {
      "needs_background": "light"
     },
     "output_type": "display_data"
    }
   ],
   "source": [
    "Men.sort_values()\n",
    "Women.sort_values()\n",
    "fig2,ax2=plt.subplots(nrows=1,ncols=2,figsize=(10,4))\n",
    "sm.qqplot(Men,line='45',loc=np.mean(Men),scale=np.std(Men),ax=ax2[0])\n",
    "sm.qqplot(Women,line='45',loc=np.mean(Women),scale=np.std(Women),ax=ax2[1])\n",
    "plt.show()"
   ]
  },
  {
   "cell_type": "code",
   "execution_count": 9,
   "id": "d3174299-2444-4771-94c4-19077f242091",
   "metadata": {},
   "outputs": [
    {
     "data": {
      "text/plain": [
       "LeveneResult(statistic=0.5041855321106281, pvalue=0.48547768995474627)"
      ]
     },
     "execution_count": 9,
     "metadata": {},
     "output_type": "execute_result"
    }
   ],
   "source": [
    "stats.levene(Men,Women,center='median')"
   ]
  },
  {
   "cell_type": "code",
   "execution_count": 10,
   "id": "51a73864-cd73-42e3-b11a-cbf529bbf11c",
   "metadata": {},
   "outputs": [
    {
     "data": {
      "text/plain": [
       "[Text(0, 0, 'Men'), Text(1, 0, 'Women')]"
      ]
     },
     "execution_count": 10,
     "metadata": {},
     "output_type": "execute_result"
    },
    {
     "data": {
      "image/png": "[encoded data removed]",
      "text/plain": [
       "<Figure size 432x288 with 1 Axes>"
      ]
     },
     "metadata": {
      "needs_background": "light"
     },
     "output_type": "display_data"
    }
   ],
   "source": [
    "#Plot the data to visualize\n",
    "ax=sns.boxplot(data=[Men,Women],showmeans=True)\n",
    "ax.set(xlabel=\"Men and Women\")\n",
    "ax.set(ylabel=\"Body Fat Pecrentage\")\n",
    "ax=sns.swarmplot(data=[Men,Women])\n",
    "ax.set_xticklabels([\"Men\",\"Women\"])"
   ]
  },
  {
   "cell_type": "markdown",
   "id": "34a67e99-014b-48f3-b783-2add1258f2ab",
   "metadata": {},
   "source": [
    "Symmetrical distributions, noraml in appearance, equal variance in appearance.  "
   ]
  },
  {
   "cell_type": "markdown",
   "id": "172fa085-6882-4162-aa4b-8185d8aa87c7",
   "metadata": {},
   "source": [
    "Check assumtions.  Larger than 0.05 p-value means we fail to reject the null hypothesis (that the distribution of the sample is sig different from a normal distribution) and conclude that the sample is not differnt from a normal distribution"
   ]
  },
  {
   "cell_type": "markdown",
   "id": "37605fa3-9fba-4fc2-be38-c0ec4bd92c79",
   "metadata": {},
   "source": [
    "We have shown that the two samples are normally distributed using these tests.  Now let's look at the assumption of equal variance (homogeneity of variance or homoscedasticity). Larger than 0.05 p-value measn we fail to reject the null hypthesis and conclude that we accept that the variances are the same.  "
   ]
  },
  {
   "cell_type": "markdown",
   "id": "7cbdb797-9f52-488c-abf6-459b405402f8",
   "metadata": {},
   "source": [
    "Let's look at the normality with qq plots.  "
   ]
  },
  {
   "cell_type": "markdown",
   "id": "44baff4e-ebc1-4797-ba93-c0b34655541d",
   "metadata": {},
   "source": [
    "Now let's run the statistical test. We will run the independent samples students's t-test for the difference in means hypothesis test and look at the 95% CI of the difference in means between the samples.  "
   ]
  },
  {
   "cell_type": "code",
   "execution_count": 13,
   "id": "6a8e7482-516a-4089-aaa3-e3ee08cf69b9",
   "metadata": {},
   "outputs": [
    {
     "data": {
      "text/plain": [
       "Ttest_indResult(statistic=-2.799960442832919, pvalue=0.010730607904197957)"
      ]
     },
     "execution_count": 13,
     "metadata": {},
     "output_type": "execute_result"
    }
   ],
   "source": [
    "stats.ttest_ind(Men,Women,equal_var=True)"
   ]
  },
  {
   "attachments": {
    "f4933fb4-e8c7-40af-aeb9-61ef88743d43.png": {
     "image/png": "[encoded data removed]"
    }
   },
   "cell_type": "markdown",
   "id": "d6e45afb-b372-49ea-a9af-ad378029dd9a",
   "metadata": {},
   "source": [
    "Null hypthesis= u1=u2 \\\n",
    "Alternative hypothesis = u1 $\\neq$ u2\n",
    "\n",
    "alpha level = 0.05, two sided test\n",
    "\n",
    "test statistic = ![image.png](attachment:f4933fb4-e8c7-40af-aeb9-61ef88743d43.png) \n",
    "\n",
    "               = -7.344 /(s(pooled)*sqrt(1/13+1/10))\n",
    "               \n",
    "               = -7.344 / (6.236 * sqrt (1/13+1/10))\n",
    "               \n",
    "               = -7.344 / (6.236 * 0.421) = -7.344 / (2.625) = -2.798\n",
    "\n",
    "critical t = t at dof= n1+n2-2 =13+10-2=21 and at 1-alpha/2 = 2.080\\\n",
    "Go to the t-table and find the 0.975 probability at dof=21; t=2.080\n",
    "\n",
    "If the |test statistic| is more extreme than the critical value, then you have a significant differnce. \n",
    "\n",
    "The p-value is found at the probability of being at or more exteme than the test statistic, doubled for the 2-tailed test. \n",
    "\n",
    "Go to the t-table and find the probability at or below t=-2.798 at dof=21. This is between 0.01 and 0.005, so dobling this for a two tailed test is between 0.02 and 0.01.  The exact p-value is 00054.  "
   ]
  },
  {
   "cell_type": "code",
   "execution_count": 29,
   "id": "ad9949c9-e688-4af8-b225-e97753d36e2c",
   "metadata": {},
   "outputs": [
    {
     "data": {
      "text/plain": [
       "-7.343846153846153"
      ]
     },
     "execution_count": 29,
     "metadata": {},
     "output_type": "execute_result"
    }
   ],
   "source": [
    "np.mean(Men)- np.mean(Women)"
   ]
  },
  {
   "attachments": {
    "3ac4b38b-5aac-47e2-984a-5a46b62e57b5.png": {
     "image/png": "[encoded data removed]"
    }
   },
   "cell_type": "markdown",
   "id": "8b11bbf1-02f9-40d8-9586-f84b3fb49e91",
   "metadata": {},
   "source": [
    "We will calculate a pooled estimate of the combined standard deviations, which is a weighted average of the two standard deviations, used when the variances are equivalent to each other \\\n",
    "![image.png](attachment:3ac4b38b-5aac-47e2-984a-5a46b62e57b5.png)"
   ]
  },
  {
   "cell_type": "code",
   "execution_count": 15,
   "id": "e2cc717b-61f0-451d-9369-bdee5c07e783",
   "metadata": {},
   "outputs": [
    {
     "data": {
      "text/plain": [
       "6.235617003466411"
      ]
     },
     "execution_count": 15,
     "metadata": {},
     "output_type": "execute_result"
    }
   ],
   "source": [
    "s_pooled=np.sqrt((((13-1)*np.std(Men,ddof=1)**2)+((10-1)*np.std(Women,ddof=1)**2))/(13+10-2))\n",
    "s_pooled"
   ]
  },
  {
   "cell_type": "code",
   "execution_count": 16,
   "id": "cb1d800b-dffa-4a2e-8bdd-8f0939422149",
   "metadata": {},
   "outputs": [
    {
     "data": {
      "text/plain": [
       "2.079613844727662"
      ]
     },
     "execution_count": 16,
     "metadata": {},
     "output_type": "execute_result"
    }
   ],
   "source": [
    "stats.t.ppf(0.975,21)"
   ]
  },
  {
   "cell_type": "code",
   "execution_count": 17,
   "id": "9f295860-5185-4614-bc53-1ed9e4c59a47",
   "metadata": {},
   "outputs": [
    {
     "data": {
      "text/plain": [
       "0.005388936286912154"
      ]
     },
     "execution_count": 17,
     "metadata": {},
     "output_type": "execute_result"
    }
   ],
   "source": [
    "stats.t.cdf(-2.798,21)"
   ]
  },
  {
   "cell_type": "code",
   "execution_count": 18,
   "id": "bd2d9000-27f3-43ee-a5ce-397df379c81a",
   "metadata": {},
   "outputs": [
    {
     "data": {
      "text/plain": [
       "0.010777872573824308"
      ]
     },
     "execution_count": 18,
     "metadata": {},
     "output_type": "execute_result"
    }
   ],
   "source": [
    "2*(stats.t.cdf(-2.798,21))"
   ]
  },
  {
   "cell_type": "markdown",
   "id": "1bd64290-b824-4c36-980c-cbff3897eded",
   "metadata": {},
   "source": [
    "Find the 95% CI of the differnce in means"
   ]
  },
  {
   "cell_type": "code",
   "execution_count": 19,
   "id": "17d61050-3998-4e44-90a9-0697ae7c49ec",
   "metadata": {},
   "outputs": [
    {
     "name": "stdout",
     "output_type": "stream",
     "text": [
      "(-12.798338975050555, -1.8893533326417513)\n"
     ]
    }
   ],
   "source": [
    "cm=sm.stats.CompareMeans(sm.stats.DescrStatsW(Men),sm.stats.DescrStatsW(Women))\n",
    "print(cm.tconfint_diff(usevar='pooled'))"
   ]
  },
  {
   "cell_type": "code",
   "execution_count": 20,
   "id": "6f95a011-7eca-4766-b4e5-5d3e58ce005d",
   "metadata": {},
   "outputs": [
    {
     "name": "stdout",
     "output_type": "stream",
     "text": [
      "-12.799351798256254\n",
      "-1.888340509436051\n"
     ]
    }
   ],
   "source": [
    "LB=(np.mean(Men)-np.mean(Women) - 2.080*s_pooled* (np.sqrt(1/13 + 1/10)))\n",
    "UB=(np.mean(Men)-np.mean(Women) + 2.080*s_pooled* (np.sqrt(1/13 + 1/10)))\n",
    "print(LB)\n",
    "print(UB)"
   ]
  },
  {
   "cell_type": "markdown",
   "id": "5b2bf040-8774-473b-8201-328fd60f36c0",
   "metadata": {},
   "source": [
    "Interpretation:  the confidence interval for meanA-meanB (the difference in sample means) does not cross 0 and has a positive range of values.  The shows that mean A is greater than mean B, and that the difference in means is statistically significant at the 95% confidence level, with p=0.0108.  We reject our null hypothesis and accept that there is a differnece in body fat ercentage between men and women. "
   ]
  },
  {
   "cell_type": "markdown",
   "id": "636e978a-aa12-49e0-b439-5ef5f7dfc922",
   "metadata": {},
   "source": [
    "# Power and Sample Size"
   ]
  },
  {
   "cell_type": "markdown",
   "id": "606d7b7f-6659-47a4-80ad-5d21fdba316d",
   "metadata": {},
   "source": [
    "power = probability (-z (at sig. level 1 - alpha/2) + ES) \\\n",
    "\n",
    "Find the power of the independent 2-sample ttest with ES equal to that above, assuming that the sample sizes are equal  , using the z-table calculation.  \n",
    "\n",
    "ES = |difference in sample means| / std\n",
    "\n",
    "If you assume equal variance between samples:  the pooled standard deviation is the appropriate estimate of the standard deviation.  \n",
    "s(pooled) = 6.236\n",
    "\n",
    "ES = 7.344/(6.236)  = 1.178\n",
    "\n",
    "power= probability (-1.96 + 1.178) = (-0.782) = 0.217\n",
    "\n",
    "1-0.217 = 0.783 = 78.3% power"
   ]
  },
  {
   "cell_type": "code",
   "execution_count": 22,
   "id": "b3617e0b-756d-4875-94c3-59e6436f2936",
   "metadata": {},
   "outputs": [
    {
     "data": {
      "text/plain": [
       "1.959963984540054"
      ]
     },
     "execution_count": 22,
     "metadata": {},
     "output_type": "execute_result"
    }
   ],
   "source": [
    "stats.norm.ppf(0.975)"
   ]
  },
  {
   "cell_type": "code",
   "execution_count": 23,
   "id": "83cf9b64-7032-4b34-a5f1-ebe7eb2592e5",
   "metadata": {},
   "outputs": [
    {
     "data": {
      "text/plain": [
       "0.2171072867953034"
      ]
     },
     "execution_count": 23,
     "metadata": {},
     "output_type": "execute_result"
    }
   ],
   "source": [
    "stats.norm.cdf(-.782)"
   ]
  },
  {
   "cell_type": "code",
   "execution_count": 24,
   "id": "9fe9f9d3-b76c-4307-a7ae-b4b66725abb9",
   "metadata": {},
   "outputs": [
    {
     "data": {
      "text/plain": [
       "0.7828927132046966"
      ]
     },
     "execution_count": 24,
     "metadata": {},
     "output_type": "execute_result"
    }
   ],
   "source": [
    "stats.norm.cdf(0.782)"
   ]
  },
  {
   "cell_type": "code",
   "execution_count": 25,
   "id": "0396448c-ac58-4a8a-81bb-13c9c41eb77a",
   "metadata": {},
   "outputs": [
    {
     "data": {
      "text/plain": [
       "0.799447443570809"
      ]
     },
     "execution_count": 25,
     "metadata": {},
     "output_type": "execute_result"
    }
   ],
   "source": [
    "import statsmodels.stats.power as smp\n",
    "smp.zt_ind_solve_power(effect_size=(-7.344/6.236),alpha=0.05, nobs1=13,ratio=0.769,alternative='two-sided')"
   ]
  },
  {
   "cell_type": "markdown",
   "id": "1b41981c-e165-4224-81a8-a4ccfd648121",
   "metadata": {},
   "source": [
    "Sample size calculation \n",
    "\n",
    "n = 2* standard deviation ^2 * (z at 1-alpha + z at 1-beta)^2 / (mean1-mean2)^2\n",
    "\n",
    "estimate of difference= 7.344\\\n",
    "standard deviation = 6.236, assume equal variance \\\n",
    "alpha =0.05 \\\n",
    "beta= 0.10, power = 0.9 \\\n",
    "z at 1-aplha/2 for 2-sided test = 1.96 \\\n",
    "z at 0.90 = 1.282\n",
    "\n",
    "n = 2* 6.236^2 * (1.96+1.282)^2 / 7.344^2 \\\n",
    "  = 2 * 38.888 * (3.242)^2 / 53.934  = 15.157 or 16 per sample group for equal sample sizes."
   ]
  },
  {
   "cell_type": "code",
   "execution_count": 26,
   "id": "13fe0dc2-1e00-436a-87b2-76c16d66293d",
   "metadata": {},
   "outputs": [
    {
     "data": {
      "text/plain": [
       "1.2815515655446004"
      ]
     },
     "execution_count": 26,
     "metadata": {},
     "output_type": "execute_result"
    }
   ],
   "source": [
    "stats.norm.ppf(.9)"
   ]
  },
  {
   "cell_type": "code",
   "execution_count": 27,
   "id": "a902ab3a-0274-45b0-83e3-a400fae834f5",
   "metadata": {},
   "outputs": [
    {
     "data": {
      "text/plain": [
       "15.152105691268526"
      ]
     },
     "execution_count": 27,
     "metadata": {},
     "output_type": "execute_result"
    }
   ],
   "source": [
    "smp.zt_ind_solve_power(effect_size=(-7.344/6.236),alpha=0.05,power=0.9,ratio=1,alternative='two-sided')"
   ]
  },
  {
   "cell_type": "code",
   "execution_count": 28,
   "id": "f82199b7-1cc5-4229-b08e-55207172925e",
   "metadata": {},
   "outputs": [
    {
     "data": {
      "text/plain": [
       "17.42787445814293"
      ]
     },
     "execution_count": 28,
     "metadata": {},
     "output_type": "execute_result"
    }
   ],
   "source": [
    "smp.zt_ind_solve_power(effect_size=(-7.344/6.236),alpha=0.05,power=0.9,ratio=0.769,alternative='two-sided')"
   ]
  },
  {
   "cell_type": "code",
   "execution_count": null,
   "id": "64ef792f-3bec-49ba-b605-d79128162028",
   "metadata": {},
   "outputs": [],
   "source": []
  },
  {
   "cell_type": "code",
   "execution_count": null,
   "id": "8214f9be-f797-4a56-b45a-9417984d4cbd",
   "metadata": {},
   "outputs": [],
   "source": []
  }
 ],
 "metadata": {
  "kernelspec": {
   "display_name": "Python 3 (ipykernel)",
   "language": "python",
   "name": "python3"
  },
  "language_info": {
   "codemirror_mode": {
    "name": "ipython",
    "version": 3
   },
   "file_extension": ".py",
   "mimetype": "text/x-python",
   "name": "python",
   "nbconvert_exporter": "python",
   "pygments_lexer": "ipython3",
   "version": "3.9.12"
  }
 },
 "nbformat": 4,
 "nbformat_minor": 5
}
