{
 "cells": [
  {
   "cell_type": "markdown",
   "id": "wicked-jesus",
   "metadata": {},
   "source": [
    "# Least Squares Methodologies with Python\n",
    "\n",
    "In this notebook we will go over an example of how to perform Ordinary Least Squares regression (single x + y).\n",
    "\n",
    "As usual we start by importing the data."
   ]
  },
  {
   "cell_type": "code",
   "execution_count": 1,
   "id": "increasing-health",
   "metadata": {},
   "outputs": [
    {
     "name": "stdin",
     "output_type": "stream",
     "text": [
      "Once deleted, variables cannot be recovered. Proceed (y/[n])?  y\n"
     ]
    }
   ],
   "source": [
    "%reset\n",
    "import pandas as pd\n",
    "import numpy as np"
   ]
  },
  {
   "cell_type": "code",
   "execution_count": 2,
   "id": "d63347e0-69d6-4554-a002-725a2762db33",
   "metadata": {},
   "outputs": [],
   "source": [
    "X=pd.Series([19,23,20,24,21,26,20,25,22,29],name=\"MTemp\")\n",
    "Y=pd.Series([294,344,360,417,359,422,333,443,350,401],name=\"NPts\")"
   ]
  },
  {
   "cell_type": "code",
   "execution_count": 3,
   "id": "b96a5d1f-9611-4b5f-a0b3-2312fa0c75f9",
   "metadata": {},
   "outputs": [
    {
     "name": "stderr",
     "output_type": "stream",
     "text": [
      "C:\\Users\\carol\\anaconda3\\lib\\site-packages\\seaborn\\_decorators.py:36: FutureWarning: Pass the following variables as keyword args: x, y. From version 0.12, the only valid positional argument will be `data`, and passing other arguments without an explicit keyword will result in an error or misinterpretation.\n",
      "  warnings.warn(\n"
     ]
    },
    {
     "data": {
      "text/plain": [
       "Text(0.5, 0, 'Max. Temperature')"
      ]
     },
     "execution_count": 3,
     "metadata": {},
     "output_type": "execute_result"
    },
    {
     "data": {
      "image/png": "[encoded data removed]",
      "text/plain": [
       "<Figure size 432x288 with 1 Axes>"
      ]
     },
     "metadata": {
      "needs_background": "light"
     },
     "output_type": "display_data"
    }
   ],
   "source": [
    "import seaborn as sns\n",
    "import matplotlib.pyplot as plt\n",
    "\n",
    "sns.scatterplot(X,Y)\n",
    "plt.ylabel(\"Number of Patients\")\n",
    "plt.xlabel(\"Max. Temperature\")"
   ]
  },
  {
   "cell_type": "markdown",
   "id": "hollow-health",
   "metadata": {},
   "source": [
    "## Least Squares Regression with a Single Variable\n",
    "\n",
    "In our data set we have y as the dependent variable, and x as the independent variable. We will first analyze how our model performs using just the x variable to predict y (regress y on x).\n",
    "\n",
    "Regression models can be built in python using the `from statsmodels.formula.api` library, which contains an `ols` class. The ols class takes as input a DataFrame as well as a string expression indicating which form the regression model should take based on the column names of the dataframe. The general format is \"dependent_var_col_name ~ independent_var1_col_name + independent_var2_col_name + ...\". "
   ]
  },
  {
   "cell_type": "code",
   "execution_count": 4,
   "id": "8b6235be-60dd-4a8c-b829-0cf3fb4a2504",
   "metadata": {},
   "outputs": [
    {
     "name": "stdout",
     "output_type": "stream",
     "text": [
      "   MTemp  NPts\n",
      "0     19   294\n",
      "1     23   344\n",
      "2     20   360\n",
      "3     24   417\n",
      "4     21   359\n",
      "5     26   422\n",
      "6     20   333\n",
      "7     25   443\n",
      "8     22   350\n",
      "9     29   401\n"
     ]
    }
   ],
   "source": [
    "from statsmodels.formula.api import ols\n",
    "\n",
    "DF=pd.concat([X,Y],axis='columns')\n",
    "print(DF)"
   ]
  },
  {
   "cell_type": "code",
   "execution_count": 5,
   "id": "6a0d791b-a801-47b2-b2db-7f20ed3fd654",
   "metadata": {},
   "outputs": [],
   "source": [
    "model1=ols('Y~X',data=DF)\n",
    "results1=model1.fit()"
   ]
  },
  {
   "cell_type": "markdown",
   "id": "widespread-victoria",
   "metadata": {},
   "source": [
    "In the above example we are building a model to predict Y (the dependent variable) based on the values of x (the independent variable). The `ols` command create the ols model object while the `.fit()` command computes the regression model and returns the model results. Let's see what's contained in the results of the model."
   ]
  },
  {
   "cell_type": "code",
   "execution_count": 6,
   "id": "84ec64d3-9eb4-48cd-a86f-c599f33c6667",
   "metadata": {},
   "outputs": [
    {
     "name": "stdout",
     "output_type": "stream",
     "text": [
      "                            OLS Regression Results                            \n",
      "==============================================================================\n",
      "Dep. Variable:                      Y   R-squared:                       0.602\n",
      "Model:                            OLS   Adj. R-squared:                  0.553\n",
      "Method:                 Least Squares   F-statistic:                     12.12\n",
      "Date:                Wed, 29 Jun 2022   Prob (F-statistic):            0.00830\n",
      "Time:                        15:01:02   Log-Likelihood:                -47.480\n",
      "No. Observations:                  10   AIC:                             98.96\n",
      "Df Residuals:                       8   BIC:                             99.56\n",
      "Df Model:                           1                                         \n",
      "Covariance Type:            nonrobust                                         \n",
      "==============================================================================\n",
      "                 coef    std err          t      P>|t|      [0.025      0.975]\n",
      "------------------------------------------------------------------------------\n",
      "Intercept    108.4477     76.430      1.419      0.194     -67.800     284.696\n",
      "X             11.5219      3.310      3.481      0.008       3.890      19.154\n",
      "==============================================================================\n",
      "Omnibus:                        0.850   Durbin-Watson:                   1.374\n",
      "Prob(Omnibus):                  0.654   Jarque-Bera (JB):                0.595\n",
      "Skew:                           0.045   Prob(JB):                        0.743\n",
      "Kurtosis:                       1.808   Cond. No.                         179.\n",
      "==============================================================================\n",
      "\n",
      "Notes:\n",
      "[1] Standard Errors assume that the covariance matrix of the errors is correctly specified.\n"
     ]
    },
    {
     "name": "stderr",
     "output_type": "stream",
     "text": [
      "C:\\Users\\carol\\anaconda3\\lib\\site-packages\\scipy\\stats\\stats.py:1541: UserWarning: kurtosistest only valid for n>=20 ... continuing anyway, n=10\n",
      "  warnings.warn(\"kurtosistest only valid for n>=20 ... continuing \"\n"
     ]
    }
   ],
   "source": [
    "print(results1.summary())"
   ]
  },
  {
   "cell_type": "code",
   "execution_count": 7,
   "id": "9a92cd3b-09e9-4a57-9442-bc5c79262b32",
   "metadata": {},
   "outputs": [
    {
     "name": "stdout",
     "output_type": "stream",
     "text": [
      "                Results: Ordinary least squares\n",
      "================================================================\n",
      "Model:              OLS              Adj. R-squared:     0.553  \n",
      "Dependent Variable: Y                AIC:                98.9591\n",
      "Date:               2022-06-29 15:01 BIC:                99.5643\n",
      "No. Observations:   10               Log-Likelihood:     -47.480\n",
      "Df Model:           1                F-statistic:        12.12  \n",
      "Df Residuals:       8                Prob (F-statistic): 0.00830\n",
      "R-squared:          0.602            Scale:              973.77 \n",
      "-----------------------------------------------------------------\n",
      "            Coef.    Std.Err.    t     P>|t|    [0.025    0.975] \n",
      "-----------------------------------------------------------------\n",
      "Intercept  108.4477   76.4300  1.4189  0.1937  -67.8001  284.6955\n",
      "X           11.5219    3.3096  3.4813  0.0083    3.8899   19.1539\n",
      "----------------------------------------------------------------\n",
      "Omnibus:               0.850       Durbin-Watson:          1.374\n",
      "Prob(Omnibus):         0.654       Jarque-Bera (JB):       0.595\n",
      "Skew:                  0.045       Prob(JB):               0.743\n",
      "Kurtosis:              1.808       Condition No.:          179  \n",
      "================================================================\n",
      "\n"
     ]
    },
    {
     "name": "stderr",
     "output_type": "stream",
     "text": [
      "C:\\Users\\carol\\anaconda3\\lib\\site-packages\\scipy\\stats\\stats.py:1541: UserWarning: kurtosistest only valid for n>=20 ... continuing anyway, n=10\n",
      "  warnings.warn(\"kurtosistest only valid for n>=20 ... continuing \"\n"
     ]
    }
   ],
   "source": [
    "# summary 2 will provide the scale value (the Mean Square of the Error)\n",
    "\n",
    "print(results1.summary2())"
   ]
  },
  {
   "cell_type": "markdown",
   "id": "60e15189-09a0-45eb-a3e5-f4ea5e4c1077",
   "metadata": {},
   "source": [
    "Another way to do this is directly through the OLS class, where you have to specify to add the constant for the model fit."
   ]
  },
  {
   "cell_type": "markdown",
   "id": "conceptual-orange",
   "metadata": {},
   "source": [
    "The alternate way to build linear regression models may be syntactically cleaner. This can be found in the `OLS` class in the `statsmodels.api` library. The drawback to this 'cleaner' method is that it doesn't provide convenient access to the model's ANOVA table. In cases where the ANOVA results aren't needed it may provide a cleaner solution.\n",
    "\n",
    "Again, by default this version DOES NOT include an intercept term. The intercept term needs to be added manually via the `add_constant` method."
   ]
  },
  {
   "cell_type": "code",
   "execution_count": 14,
   "id": "characteristic-migration",
   "metadata": {},
   "outputs": [],
   "source": [
    "import statsmodels.api as sm\n",
    "\n",
    "X=sm.add_constant(X)\n",
    "model2 = sm.OLS(Y,X)\n",
    "results2=model2.fit()"
   ]
  },
  {
   "cell_type": "code",
   "execution_count": 15,
   "id": "mighty-variety",
   "metadata": {},
   "outputs": [
    {
     "name": "stdout",
     "output_type": "stream",
     "text": [
      "                            OLS Regression Results                            \n",
      "==============================================================================\n",
      "Dep. Variable:                   NPts   R-squared:                       0.602\n",
      "Model:                            OLS   Adj. R-squared:                  0.553\n",
      "Method:                 Least Squares   F-statistic:                     12.12\n",
      "Date:                Wed, 29 Jun 2022   Prob (F-statistic):            0.00830\n",
      "Time:                        15:20:51   Log-Likelihood:                -47.480\n",
      "No. Observations:                  10   AIC:                             98.96\n",
      "Df Residuals:                       8   BIC:                             99.56\n",
      "Df Model:                           1                                         \n",
      "Covariance Type:            nonrobust                                         \n",
      "==============================================================================\n",
      "                 coef    std err          t      P>|t|      [0.025      0.975]\n",
      "------------------------------------------------------------------------------\n",
      "const        108.4477     76.430      1.419      0.194     -67.800     284.696\n",
      "MTemp         11.5219      3.310      3.481      0.008       3.890      19.154\n",
      "==============================================================================\n",
      "Omnibus:                        0.850   Durbin-Watson:                   1.374\n",
      "Prob(Omnibus):                  0.654   Jarque-Bera (JB):                0.595\n",
      "Skew:                           0.045   Prob(JB):                        0.743\n",
      "Kurtosis:                       1.808   Cond. No.                         179.\n",
      "==============================================================================\n",
      "\n",
      "Notes:\n",
      "[1] Standard Errors assume that the covariance matrix of the errors is correctly specified.\n"
     ]
    },
    {
     "name": "stderr",
     "output_type": "stream",
     "text": [
      "C:\\Users\\carol\\anaconda3\\lib\\site-packages\\scipy\\stats\\stats.py:1541: UserWarning: kurtosistest only valid for n>=20 ... continuing anyway, n=10\n",
      "  warnings.warn(\"kurtosistest only valid for n>=20 ... continuing \"\n"
     ]
    }
   ],
   "source": [
    "print(results2.summary())"
   ]
  },
  {
   "cell_type": "markdown",
   "id": "rapid-malta",
   "metadata": {},
   "source": [
    "In this example:\n",
    "* The intercept term (b0) = 108.45\n",
    "* The slope term (b1) = 11.52 - this implies that on average a unit increase in x (Max Temp) results in an increase of y (number of Patients) of 11.52 people\n",
    "* The t-value for the slope term is 3.481 - Python calls this the t-value because it comes from the t-distribution.\n",
    "* The 95% confidence interval for the slope term are \\[3.89, 19.15\\].\n",
    "* The confidence interval does not cross zero meaning that zero is not a plausible value for the coefficients. x therefore significantly impacts the value of y.\n",
    "\n",
    "* The $R^2$ value is 0.602:  the percentage of variance exaplianed by the model over the total variance; the percentage of the dependent variable variation that that the model explains; About 60% of the variance of numbers of patients seen can be explained by maximum daily temperature"
   ]
  },
  {
   "cell_type": "markdown",
   "id": "formed-tiffany",
   "metadata": {},
   "source": [
    "Let's investigate the results in more detail by checking the ANOVA table. ANOVA related methods can be found in the `statsmodels.stats.anova` library in the `anova_lm` class."
   ]
  },
  {
   "cell_type": "code",
   "execution_count": 20,
   "id": "dressed-captain",
   "metadata": {},
   "outputs": [
    {
     "name": "stdout",
     "output_type": "stream",
     "text": [
      "           df        sum_sq       mean_sq          F    PR(>F)\n",
      "X         1.0  11801.917773  11801.917773  12.119786  0.008303\n",
      "Residual  8.0   7790.182227    973.772778        NaN       NaN\n"
     ]
    }
   ],
   "source": [
    "from statsmodels.stats.anova import anova_lm\n",
    "anova_results = anova_lm(results1)\n",
    "print(anova_results)"
   ]
  },
  {
   "cell_type": "markdown",
   "id": "taken-student",
   "metadata": {},
   "source": [
    "A key additional piece of information we haven't got yet is the standard error of the model. The `scale` parameter of the model results provides the mean squared error. The square root of this value is the standard error of the regression (=residual standard error)."
   ]
  },
  {
   "cell_type": "code",
   "execution_count": 21,
   "id": "constitutional-subscription",
   "metadata": {},
   "outputs": [
    {
     "name": "stdout",
     "output_type": "stream",
     "text": [
      "The model mean squared error is: 973.7727784027002\n",
      "The model standard error is: 31.205332531519357\n"
     ]
    }
   ],
   "source": [
    "mean_squared_error = results1.scale\n",
    "print(\"The model mean squared error is: \" +str(mean_squared_error))\n",
    "print(\"The model standard error is: \" + str(np.sqrt(mean_squared_error)))"
   ]
  },
  {
   "cell_type": "markdown",
   "id": "4edf2c2e-61ad-4dda-a6ad-06d4ded51d96",
   "metadata": {},
   "source": [
    "On average, using the least squares line to predict numbers of patients from daily temperature results an error of about 31 people. "
   ]
  },
  {
   "cell_type": "markdown",
   "id": "subject-prague",
   "metadata": {},
   "source": [
    "Lastly, in order to use the model, we could get the model coefficients without having to hard code the values. They are contained inside the model results."
   ]
  },
  {
   "cell_type": "code",
   "execution_count": 18,
   "id": "nervous-emperor",
   "metadata": {},
   "outputs": [
    {
     "name": "stdout",
     "output_type": "stream",
     "text": [
      "[108.44769404  11.52193476]\n"
     ]
    }
   ],
   "source": [
    "coefficients = results1._results.params\n",
    "print(coefficients)"
   ]
  },
  {
   "cell_type": "markdown",
   "id": "2a13911b-967d-4409-a268-ad958fba1607",
   "metadata": {},
   "source": [
    "Finally, we will plot the regression line on the scatterplot"
   ]
  },
  {
   "cell_type": "code",
   "execution_count": 22,
   "id": "70eebe6e-6ed9-47b5-ab8d-1bda6a5c6662",
   "metadata": {},
   "outputs": [
    {
     "data": {
      "text/plain": [
       "Text(20, 420, '$\\\\hat{y}$=108.45+11.52x')"
      ]
     },
     "execution_count": 22,
     "metadata": {},
     "output_type": "execute_result"
    },
    {
     "data": {
      "image/png": "[encoded data removed]",
      "text/plain": [
       "<Figure size 432x288 with 1 Axes>"
      ]
     },
     "metadata": {
      "needs_background": "light"
     },
     "output_type": "display_data"
    }
   ],
   "source": [
    "#regplot() plots data and a linear regression line or can use lmplot to help in conditioning on other variables\n",
    "ax=sns.regplot(x='MTemp',y='NPts',data=DF,ci=None)\n",
    "plt.ylabel(\"Number of Patients\")\n",
    "plt.xlabel(\"Max. Temperature\")\n",
    "ax.annotate(text='$\\hat{y}$=108.45+11.52x',xy=(20,420),xycoords='data',size=20)"
   ]
  },
  {
   "cell_type": "markdown",
   "id": "b2bea058-e8ec-421e-b469-c80a2bdbab4f",
   "metadata": {},
   "source": [
    "# Looking at how to calculate and plot the prediction and the residuals based on the model."
   ]
  },
  {
   "cell_type": "code",
   "execution_count": 24,
   "id": "16ae59b8-d580-4c94-905e-4c31b3039c31",
   "metadata": {},
   "outputs": [],
   "source": [
    "X1=pd.Series([19,23,20,24,21,26,20,25,22,29],name=\"MTemp\")\n",
    "Y1=pd.Series([294,344,360,417,359,422,333,443,350,401],name=\"NPts\")"
   ]
  },
  {
   "cell_type": "code",
   "execution_count": 25,
   "id": "95f2f24f-9429-4ec3-89f5-4fe8f3cc48ae",
   "metadata": {},
   "outputs": [
    {
     "name": "stdout",
     "output_type": "stream",
     "text": [
      "0    327.33\n",
      "1    373.41\n",
      "2    338.85\n",
      "3    384.93\n",
      "4    350.37\n",
      "5    407.97\n",
      "6    338.85\n",
      "7    396.45\n",
      "8    361.89\n",
      "9    442.53\n",
      "Name: MTemp, dtype: float64\n",
      "0   -33.33\n",
      "1   -29.41\n",
      "2    21.15\n",
      "3    32.07\n",
      "4     8.63\n",
      "5    14.03\n",
      "6    -5.85\n",
      "7    46.55\n",
      "8   -11.89\n",
      "9   -41.53\n",
      "dtype: float64\n"
     ]
    }
   ],
   "source": [
    "# Calculate the predictions and errors (residuals) based on the model\n",
    "y_pred=108.45+11.52*X1\n",
    "y_value=Y1\n",
    "error=y_value-y_pred\n",
    "print(y_pred)\n",
    "print(error)"
   ]
  },
  {
   "cell_type": "code",
   "execution_count": 26,
   "id": "c111c2e9-3fa7-43bd-88f1-0dde5871793c",
   "metadata": {},
   "outputs": [
    {
     "name": "stderr",
     "output_type": "stream",
     "text": [
      "C:\\Users\\carol\\anaconda3\\lib\\site-packages\\seaborn\\_decorators.py:36: FutureWarning: Pass the following variables as keyword args: x, y. From version 0.12, the only valid positional argument will be `data`, and passing other arguments without an explicit keyword will result in an error or misinterpretation.\n",
      "  warnings.warn(\n",
      "C:\\Users\\carol\\anaconda3\\lib\\site-packages\\seaborn\\_decorators.py:36: FutureWarning: Pass the following variables as keyword args: x, y. From version 0.12, the only valid positional argument will be `data`, and passing other arguments without an explicit keyword will result in an error or misinterpretation.\n",
      "  warnings.warn(\n",
      "C:\\Users\\carol\\anaconda3\\lib\\site-packages\\seaborn\\_decorators.py:36: FutureWarning: Pass the following variables as keyword args: x, y. From version 0.12, the only valid positional argument will be `data`, and passing other arguments without an explicit keyword will result in an error or misinterpretation.\n",
      "  warnings.warn(\n"
     ]
    },
    {
     "data": {
      "text/plain": [
       "Text(20, 420, '$\\\\hat{y}$=108.45+11.52x')"
      ]
     },
     "execution_count": 26,
     "metadata": {},
     "output_type": "execute_result"
    },
    {
     "data": {
      "image/png": "[encoded data removed]",
      "text/plain": [
       "<Figure size 432x288 with 1 Axes>"
      ]
     },
     "metadata": {
      "needs_background": "light"
     },
     "output_type": "display_data"
    }
   ],
   "source": [
    "ax=sns.scatterplot(X1,Y1)\n",
    "plt.ylabel(\"Number of Patients\")\n",
    "plt.xlabel(\"Max. Temperature\")\n",
    "ax=sns.scatterplot(X1,y_pred)\n",
    "ax=sns.lineplot(X1,y_pred,color='orange')\n",
    "ax.annotate(text='$\\hat{y}$=108.45+11.52x',xy=(20,420),\n",
    "\txycoords='data',size=10)"
   ]
  },
  {
   "cell_type": "code",
   "execution_count": 27,
   "id": "daf24365-12b7-4845-bb84-1a20caa21829",
   "metadata": {},
   "outputs": [
    {
     "name": "stderr",
     "output_type": "stream",
     "text": [
      "C:\\Users\\carol\\anaconda3\\lib\\site-packages\\seaborn\\_decorators.py:36: FutureWarning: Pass the following variables as keyword args: x, y. From version 0.12, the only valid positional argument will be `data`, and passing other arguments without an explicit keyword will result in an error or misinterpretation.\n",
      "  warnings.warn(\n"
     ]
    },
    {
     "data": {
      "text/plain": [
       "Text(0, 0.5, 'error')"
      ]
     },
     "execution_count": 27,
     "metadata": {},
     "output_type": "execute_result"
    },
    {
     "data": {
      "image/png": "[encoded data removed]",
      "text/plain": [
       "<Figure size 432x288 with 1 Axes>"
      ]
     },
     "metadata": {
      "needs_background": "light"
     },
     "output_type": "display_data"
    }
   ],
   "source": [
    "sns.scatterplot(X1,error)\n",
    "plt.hlines(0,15,30,color='red')\n",
    "plt.ylabel(\"error\")"
   ]
  },
  {
   "cell_type": "markdown",
   "id": "a533a58f-ccb9-4fae-add5-b7c98158c4eb",
   "metadata": {},
   "source": [
    "Can use statsmodels graphics"
   ]
  },
  {
   "cell_type": "code",
   "execution_count": 29,
   "id": "2320efe6-aa09-46d0-a29f-4d6f284a022f",
   "metadata": {},
   "outputs": [
    {
     "name": "stdout",
     "output_type": "stream",
     "text": [
      "eval_env: 1\n"
     ]
    },
    {
     "data": {
      "image/png": "[encoded data removed]",
      "text/plain": [
       "<Figure size 864x576 with 4 Axes>"
      ]
     },
     "metadata": {
      "needs_background": "light"
     },
     "output_type": "display_data"
    }
   ],
   "source": [
    "# Look at residual versus predictor plot and sccatterplots\n",
    "\n",
    "import statsmodels.api as sm\n",
    "\n",
    "fig=plt.figure(figsize=(12,8))\n",
    "fig=sm.graphics.plot_regress_exog(results1,'X',fig=fig)"
   ]
  },
  {
   "cell_type": "code",
   "execution_count": null,
   "id": "25e435be-119f-4197-9e41-eb9c91f200ae",
   "metadata": {},
   "outputs": [],
   "source": []
  }
 ],
 "metadata": {
  "kernelspec": {
   "display_name": "Python 3 (ipykernel)",
   "language": "python",
   "name": "python3"
  },
  "language_info": {
   "codemirror_mode": {
    "name": "ipython",
    "version": 3
   },
   "file_extension": ".py",
   "mimetype": "text/x-python",
   "name": "python",
   "nbconvert_exporter": "python",
   "pygments_lexer": "ipython3",
   "version": "3.9.12"
  }
 },
 "nbformat": 4,
 "nbformat_minor": 5
}
