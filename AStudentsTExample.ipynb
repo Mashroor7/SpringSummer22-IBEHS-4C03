{
 "cells": [
  {
   "cell_type": "code",
   "execution_count": 2,
   "id": "b983a835-38ef-44ea-998c-58cb98aa7a70",
   "metadata": {},
   "outputs": [
    {
     "name": "stdin",
     "output_type": "stream",
     "text": [
      "Once deleted, variables cannot be recovered. Proceed (y/[n])?  y\n"
     ]
    }
   ],
   "source": [
    "%reset\n",
    "import numpy as np\n",
    "import pandas as pd\n",
    "import matplotlib.pyplot as plt\n",
    "import seaborn as sns\n",
    "import scipy\n",
    "from scipy import stats\n",
    "from scipy.stats import norm\n",
    "import statsmodels.api as sm"
   ]
  },
  {
   "cell_type": "markdown",
   "id": "cb1c536f-21ec-4a41-b2ec-b3df31396d5b",
   "metadata": {},
   "source": [
    "Sample t-test for testing for the differences in means: Independent t-test\n",
    "Load and explore the data.\n",
    "\n",
    "Average body fat perecntage vary by age and fitness level.  A sample of people who work out at a gym three times a week for 1 year were measured for body fat. \n",
    "\n",
    "If given the sample data below, the summary data, and information on the distributions of the samples, use the appropriate statistical est to test if body fat percentage is the same between men and women.  "
   ]
  },
  {
   "cell_type": "code",
   "execution_count": 5,
   "id": "49c689c9-d855-4da7-afe4-55b350c519bb",
   "metadata": {},
   "outputs": [],
   "source": [
    "Men=pd.Series([13.3,6,20,8,14,19,18,25,16,24,15,1,15])\n",
    "Women=pd.Series([22,16,21.7,21,30,26,12,23.2,28,23])"
   ]
  },
  {
   "cell_type": "code",
   "execution_count": 6,
   "id": "8e2691cd-e027-40c8-bf73-2774890e1f12",
   "metadata": {},
   "outputs": [
    {
     "data": {
      "text/plain": [
       "count    13.000000\n",
       "mean     14.946154\n",
       "std       6.842589\n",
       "min       1.000000\n",
       "25%      13.300000\n",
       "50%      15.000000\n",
       "75%      19.000000\n",
       "max      25.000000\n",
       "dtype: float64"
      ]
     },
     "execution_count": 6,
     "metadata": {},
     "output_type": "execute_result"
    }
   ],
   "source": [
    "# Describe the data for men and women\n"
   ]
  },
  {
   "cell_type": "code",
   "execution_count": 30,
   "id": "51a73864-cd73-42e3-b11a-cbf529bbf11c",
   "metadata": {},
   "outputs": [],
   "source": [
    "#Plot the data to visualize\n"
   ]
  },
  {
   "cell_type": "markdown",
   "id": "aec2e6cf-359a-4feb-b8f3-e6f6fac7173b",
   "metadata": {},
   "source": [
    "Check normality using a shapiro wilk test and qq plots"
   ]
  },
  {
   "cell_type": "code",
   "execution_count": null,
   "id": "2f52ad61-6ad1-41a9-84ed-0e6cf44386a4",
   "metadata": {},
   "outputs": [],
   "source": []
  },
  {
   "cell_type": "code",
   "execution_count": null,
   "id": "dc9bca57-d4b1-47e5-9b28-a57683496af2",
   "metadata": {},
   "outputs": [],
   "source": []
  },
  {
   "cell_type": "markdown",
   "id": "c65c9019-ff42-451b-ba20-55d2219c07a4",
   "metadata": {},
   "source": [
    "Check equality of variance with levene's test "
   ]
  },
  {
   "cell_type": "code",
   "execution_count": null,
   "id": "4891305e-85f9-4e39-88b1-17a2b62c242d",
   "metadata": {},
   "outputs": [],
   "source": []
  },
  {
   "cell_type": "code",
   "execution_count": null,
   "id": "838f5276-9396-48ea-b6e6-040c2db2fae1",
   "metadata": {},
   "outputs": [],
   "source": []
  },
  {
   "cell_type": "markdown",
   "id": "44baff4e-ebc1-4797-ba93-c0b34655541d",
   "metadata": {},
   "source": [
    "Now let's run the statistical test. Which test do we run and why?"
   ]
  },
  {
   "cell_type": "code",
   "execution_count": null,
   "id": "6211ddc8-2b82-410a-b4ae-9f63d6881f1b",
   "metadata": {},
   "outputs": [],
   "source": []
  },
  {
   "cell_type": "code",
   "execution_count": null,
   "id": "ae974e0c-b5ba-411e-851d-5a0a138b61fc",
   "metadata": {},
   "outputs": [],
   "source": []
  },
  {
   "cell_type": "code",
   "execution_count": null,
   "id": "cd9cd5fc-8a1d-4294-9761-5e0fc1c4719d",
   "metadata": {},
   "outputs": [],
   "source": []
  },
  {
   "cell_type": "code",
   "execution_count": null,
   "id": "74c7186c-8766-454e-ac2d-255b335940ea",
   "metadata": {},
   "outputs": [],
   "source": []
  },
  {
   "cell_type": "code",
   "execution_count": null,
   "id": "7bd26b34-ba72-4fd0-a62d-c26a7e2e0eb5",
   "metadata": {},
   "outputs": [],
   "source": []
  },
  {
   "cell_type": "code",
   "execution_count": null,
   "id": "e63ba0f5-7286-4645-8f9c-ab7b37bad545",
   "metadata": {},
   "outputs": [],
   "source": []
  },
  {
   "cell_type": "markdown",
   "id": "1bd64290-b824-4c36-980c-cbff3897eded",
   "metadata": {},
   "source": [
    "Find the 95% CI of the differnce in means"
   ]
  },
  {
   "cell_type": "code",
   "execution_count": null,
   "id": "9ae9bbf0-d7c8-43d3-a748-aa12732156ab",
   "metadata": {},
   "outputs": [],
   "source": []
  },
  {
   "cell_type": "code",
   "execution_count": null,
   "id": "e75e52de-8f26-4ad4-815b-9d6b66e03b00",
   "metadata": {},
   "outputs": [],
   "source": []
  },
  {
   "cell_type": "code",
   "execution_count": null,
   "id": "cf5ad003-095a-432e-9792-28d51540fb11",
   "metadata": {},
   "outputs": [],
   "source": []
  },
  {
   "cell_type": "code",
   "execution_count": null,
   "id": "8214f9be-f797-4a56-b45a-9417984d4cbd",
   "metadata": {},
   "outputs": [],
   "source": []
  }
 ],
 "metadata": {
  "kernelspec": {
   "display_name": "Python 3 (ipykernel)",
   "language": "python",
   "name": "python3"
  },
  "language_info": {
   "codemirror_mode": {
    "name": "ipython",
    "version": 3
   },
   "file_extension": ".py",
   "mimetype": "text/x-python",
   "name": "python",
   "nbconvert_exporter": "python",
   "pygments_lexer": "ipython3",
   "version": "3.9.12"
  }
 },
 "nbformat": 4,
 "nbformat_minor": 5
}
